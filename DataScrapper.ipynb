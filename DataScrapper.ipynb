{
 "cells": [
  {
   "cell_type": "code",
   "execution_count": 1,
   "id": "490dffd8",
   "metadata": {},
   "outputs": [
    {
     "name": "stdout",
     "output_type": "stream",
     "text": [
      "Requirement already satisfied: selenium in c:\\users\\pmls\\anaconda3\\lib\\site-packages (4.20.0)\n",
      "Requirement already satisfied: typing_extensions>=4.9.0 in c:\\users\\pmls\\anaconda3\\lib\\site-packages (from selenium) (4.11.0)\n",
      "Requirement already satisfied: urllib3[socks]<3,>=1.26 in c:\\users\\pmls\\anaconda3\\lib\\site-packages (from selenium) (1.26.7)\n",
      "Requirement already satisfied: trio-websocket~=0.9 in c:\\users\\pmls\\anaconda3\\lib\\site-packages (from selenium) (0.11.1)\n",
      "Requirement already satisfied: certifi>=2021.10.8 in c:\\users\\pmls\\anaconda3\\lib\\site-packages (from selenium) (2024.2.2)\n",
      "Requirement already satisfied: trio~=0.17 in c:\\users\\pmls\\anaconda3\\lib\\site-packages (from selenium) (0.25.0)\n",
      "Requirement already satisfied: sniffio>=1.3.0 in c:\\users\\pmls\\anaconda3\\lib\\site-packages (from trio~=0.17->selenium) (1.3.1)\n",
      "Requirement already satisfied: sortedcontainers in c:\\users\\pmls\\anaconda3\\lib\\site-packages (from trio~=0.17->selenium) (2.4.0)\n",
      "Requirement already satisfied: idna in c:\\users\\pmls\\anaconda3\\lib\\site-packages (from trio~=0.17->selenium) (3.2)\n",
      "Requirement already satisfied: cffi>=1.14 in c:\\users\\pmls\\anaconda3\\lib\\site-packages (from trio~=0.17->selenium) (1.14.6)\n",
      "Requirement already satisfied: exceptiongroup in c:\\users\\pmls\\anaconda3\\lib\\site-packages (from trio~=0.17->selenium) (1.2.1)\n",
      "Requirement already satisfied: attrs>=23.2.0 in c:\\users\\pmls\\anaconda3\\lib\\site-packages (from trio~=0.17->selenium) (23.2.0)\n",
      "Requirement already satisfied: outcome in c:\\users\\pmls\\anaconda3\\lib\\site-packages (from trio~=0.17->selenium) (1.3.0.post0)\n",
      "Requirement already satisfied: pycparser in c:\\users\\pmls\\anaconda3\\lib\\site-packages (from cffi>=1.14->trio~=0.17->selenium) (2.20)\n",
      "Requirement already satisfied: wsproto>=0.14 in c:\\users\\pmls\\anaconda3\\lib\\site-packages (from trio-websocket~=0.9->selenium) (1.2.0)\n",
      "Requirement already satisfied: PySocks!=1.5.7,<2.0,>=1.5.6 in c:\\users\\pmls\\anaconda3\\lib\\site-packages (from urllib3[socks]<3,>=1.26->selenium) (1.7.1)\n",
      "Requirement already satisfied: h11<1,>=0.9.0 in c:\\users\\pmls\\anaconda3\\lib\\site-packages (from wsproto>=0.14->trio-websocket~=0.9->selenium) (0.14.0)\n"
     ]
    }
   ],
   "source": [
    "!pip install selenium"
   ]
  },
  {
   "cell_type": "code",
   "execution_count": 1,
   "id": "09580ce8",
   "metadata": {},
   "outputs": [
    {
     "name": "stdout",
     "output_type": "stream",
     "text": [
      "Prof. Dr. Rao Imran Habib\n",
      "Jibran Jamshed Associate Professor | Chairman LLM, PhD. Scholar\n",
      "0333-6065169 Jibran.Jamshed@iub.edu.pk\n",
      "Farah Amir Assistant Professor LL.M\n",
      "03007-8766049 Farah.Amir@iub.edu.pk\n",
      "Dr. Malik Zia ud Din Assistant Professor (HEC Approved PhD Supervisor) | Incharge Department of Criminology PhD (Economic Law) School of Law, Wuhan University, China\n",
      "0333-5717639 062-9250261 malik.ziauddin@iub.edu.pk\n",
      "Hafiz Syed Shoaib Altaf Assistant Professor LLB(Silver Medalist), LLM\n",
      "Email shoaib.altaf@iub.edu.pk\n",
      "Sadaf Batool Assistant Professor LL.M\n",
      "0336-6356558 062 - 9250261 Sadaf.Batool@iub.edu.pk\n",
      "Muhammad Umair Razzaq Assistant Professor LLM(Mphil)\n",
      "0331-7262577 062-9250261 umairrazzaq@iub.edu.pk\n",
      "Aas Muhammad Lecturer B.Com, LLB (Gold Medalist), MA Islamic Studies (Silver Medalist), LLM (Islamic Law)\n",
      "0300-6818535 062-9250261 aas.muhammad@iub.edu.pk\n",
      "Humera Nawaz Lecturer LLM (Muslim Family law), BA/LLB Hons. Shariah & Law\n",
      "03455147079 Humera.nawaz@iub.edu.pk\n",
      "Mahrukh Tanveer None None\n",
      "062-9250261 062-9250261 mahrukh.tanveer@iub.edu.pk\n",
      "Dr. Muhammad Hassaan Sial Lecturer Ph.D, University of Malaya\n",
      "062-9250261 Muhammad.hassan@iub.edu.pk\n",
      "Junaid Jan Lecturer Masters (16 Years) LLB(LAW)\n",
      " \n",
      "Muhammad Adnan Aziz Lecturer Masters (16 Years) Political Science\n",
      " \n",
      "Muhammad Muneeb Raza None None\n"
     ]
    },
    {
     "ename": "IndexError",
     "evalue": "list index out of range",
     "output_type": "error",
     "traceback": [
      "\u001b[1;31m---------------------------------------------------------------------------\u001b[0m",
      "\u001b[1;31mIndexError\u001b[0m                                Traceback (most recent call last)",
      "\u001b[1;32m~\\AppData\\Local\\Temp/ipykernel_18616/2321831552.py\u001b[0m in \u001b[0;36m<module>\u001b[1;34m\u001b[0m\n\u001b[0;32m    112\u001b[0m                 \u001b[1;32mif\u001b[0m \u001b[1;34m'Phone'\u001b[0m \u001b[1;32min\u001b[0m \u001b[0mabout_data\u001b[0m\u001b[1;33m:\u001b[0m\u001b[1;33m\u001b[0m\u001b[1;33m\u001b[0m\u001b[0m\n\u001b[0;32m    113\u001b[0m                     \u001b[0mindex\u001b[0m \u001b[1;33m=\u001b[0m \u001b[0mabout_data\u001b[0m\u001b[1;33m.\u001b[0m\u001b[0mindex\u001b[0m\u001b[1;33m(\u001b[0m\u001b[1;34m'Phone'\u001b[0m\u001b[1;33m)\u001b[0m \u001b[1;33m+\u001b[0m \u001b[1;36m2\u001b[0m\u001b[1;33m\u001b[0m\u001b[1;33m\u001b[0m\u001b[0m\n\u001b[1;32m--> 114\u001b[1;33m                 \u001b[0mphone_number\u001b[0m \u001b[1;33m=\u001b[0m \u001b[0mabout_data\u001b[0m\u001b[1;33m[\u001b[0m\u001b[0mindex\u001b[0m\u001b[1;33m]\u001b[0m\u001b[1;33m\u001b[0m\u001b[1;33m\u001b[0m\u001b[0m\n\u001b[0m\u001b[0;32m    115\u001b[0m \u001b[1;33m\u001b[0m\u001b[0m\n\u001b[0;32m    116\u001b[0m                 \u001b[1;32mif\u001b[0m \u001b[1;34m'Email'\u001b[0m \u001b[1;32min\u001b[0m \u001b[0mabout_data\u001b[0m\u001b[1;33m:\u001b[0m\u001b[1;33m\u001b[0m\u001b[1;33m\u001b[0m\u001b[0m\n",
      "\u001b[1;31mIndexError\u001b[0m: list index out of range"
     ]
    }
   ],
   "source": [
    "from selenium import webdriver\n",
    "from selenium.webdriver.common.by import By\n",
    "from selenium.webdriver.support.ui import WebDriverWait\n",
    "import pandas as pd\n",
    "import re\n",
    "\n",
    "faculty_general_info_df = pd.DataFrame()\n",
    "faculty_members_info_df = pd.DataFrame()\n",
    "\n",
    "url = r'https://www.iub.edu.pk/faculty-of-law'\n",
    "\n",
    "#driver = webdriver.Chrome('chromedriver.exe')\n",
    "\n",
    "driver_path = \"C:\\Program Files\\Google\\Chrome\\Application\\chrome.exe\"\n",
    "driver = webdriver.Chrome()\n",
    "driver.get(url)\n",
    "\n",
    "urls = []\n",
    "data = driver.find_element(By.CLASS_NAME,'sb2-1')\n",
    "faculties_link = data.find_elements(By.TAG_NAME,'a')\n",
    "for x in faculties_link:\n",
    "    urls.append(x.get_property('href'))\n",
    "\n",
    "\n",
    "    \n",
    "for url in urls:\n",
    "    driver.get(url)\n",
    "\n",
    "    faculty_name = driver.find_element(By.TAG_NAME, 'h2').text\n",
    "    subclass_info = driver.find_element(By.CLASS_NAME,'sb2-2')\n",
    "\n",
    "    dean_message_class = subclass_info.find_elements(By.TAG_NAME,'p')\n",
    "    dean_message = []\n",
    "    for i in dean_message_class[:-3]:\n",
    "        dean_message.append(i.text)\n",
    "\n",
    "\n",
    "    dean_name = dean_message_class[-3].text.split('\\n')[0]\n",
    "    print(dean_name)\n",
    "\n",
    "    list_of_departments = subclass_info.find_elements(By.CLASS_NAME,'col-md-4')\n",
    "    #print(len(list_of_departments))\n",
    "    wait = WebDriverWait(driver, 10)\n",
    "    department_links = []\n",
    "    for d in list_of_departments:\n",
    "        #department_name = d.text\n",
    "        wait = WebDriverWait(driver, 10)\n",
    "        a = d.find_element(By.TAG_NAME,'a')\n",
    "        department_link = a.get_property('href')\n",
    "        #print(department_link)\n",
    "        department_links.append(department_link)\n",
    "\n",
    "\n",
    "    for link in department_links:\n",
    "        driver.get(link)\n",
    "        department_name = driver.find_element(By.TAG_NAME, 'h2').text\n",
    "        subclass_info = driver.find_element(By.CLASS_NAME,'sb2-2')\n",
    "        department_description = []\n",
    "        info = subclass_info.find_elements(By.TAG_NAME,'p')\n",
    "        for i in info:\n",
    "            department_description.append(i.text)\n",
    "\n",
    "        aa = subclass_info.find_elements(By.TAG_NAME,'a')\n",
    "        OBE_data = None\n",
    "        subjects = None\n",
    "        industrial_linkage_data = None\n",
    "        Labs_data = None\n",
    "        for j in aa:\n",
    "            driver2 = webdriver.Chrome()\n",
    "            wait = WebDriverWait(driver2, 10)\n",
    "            departmental_link = j.get_property('href')\n",
    "            driver2.get(departmental_link)\n",
    "            wait = WebDriverWait(driver2, 10)\n",
    "\n",
    "            name = None\n",
    "            designation = None\n",
    "            qualification = None\n",
    "            phone_number = None\n",
    "            email = None\n",
    "            faculty_member_info = None\n",
    "            if 'author' in str(departmental_link):\n",
    "\n",
    "                driver2.get(departmental_link)\n",
    "                faculty_member_info = driver2.find_element(By.CLASS_NAME,'stu-db').text\n",
    "                #print(faculty_member_info.text)\n",
    "                wait = WebDriverWait(driver2, 10)\n",
    "                bio = driver2.find_element(By.CLASS_NAME,'pro-user-bio')\n",
    "                bio = bio.find_elements(By.TAG_NAME,'li')\n",
    "                if len(bio) >= 2:\n",
    "                    name = bio[0].text\n",
    "                    dd = bio[1].text.split('\\n')\n",
    "                    if len(dd)  >= 2:\n",
    "                        designation = dd[0]\n",
    "                        qualification = dd[1]\n",
    "                    print(name,designation,qualification)\n",
    "                else:\n",
    "                    name = bio[0].text\n",
    "                    print(name)\n",
    "\n",
    "\n",
    "                about_data = []\n",
    "                wait = WebDriverWait(driver2, 10)\n",
    "                about = driver2.find_element(By.TAG_NAME,'table')\n",
    "                about = about.find_elements(By.TAG_NAME,'td')\n",
    "                for i in about:\n",
    "                    about_data.append(i.text)\n",
    "                index = 0\n",
    "                phone_number = None\n",
    "                email = None\n",
    "\n",
    "\n",
    "                if 'Phone' in about_data:\n",
    "                    index = about_data.index('Phone') + 2 \n",
    "                phone_number = about_data[index]\n",
    "\n",
    "                if 'Email' in about_data:\n",
    "                    index = about_data.index('Email') + 2 \n",
    "                email = about_data[index]\n",
    "\n",
    "                print(phone_number,email)\n",
    "                wait = WebDriverWait(driver2, 10)\n",
    "\n",
    "            df2 = pd.DataFrame({'Faculty Name':[faculty_name],'Department Name':[department_name],\n",
    "                   'Teacher Name':[name],'Designation':[designation],'Qualification':[qualification],\n",
    "                   'Contact Number':[phone_number],'Email':[email],\"Other Info\":[faculty_member_info]})\n",
    "            faculty_members_info_df =  pd.concat([faculty_members_info_df,df2],ignore_index=True)\n",
    "\n",
    "            if 'faculty' in str(departmental_link):\n",
    "                subclass_info = driver2.find_element(By.CLASS_NAME,'sb2-2')\n",
    "                #if subclass_info == None:\n",
    "                #subclass_info = driver2.find_element(By.CLASS_NAME,'stu-db')\n",
    "                bb = subclass_info.find_elements(By.TAG_NAME,'a')\n",
    "                wait = WebDriverWait(driver2, 10)\n",
    "                driver3 = webdriver.Chrome()\n",
    "                for k in bb:\n",
    "\n",
    "                    name = None\n",
    "                    designation = None\n",
    "                    qualification = None\n",
    "                    phone_number = None\n",
    "                    email = None\n",
    "                    faculty_member_info = None\n",
    "\n",
    "\n",
    "                    wait = WebDriverWait(driver3, 10)\n",
    "                    faculty_member_link = k.get_property('href')\n",
    "                    if 'author' in str(faculty_member_link):\n",
    "                        driver3.get(faculty_member_link)\n",
    "                        faculty_member_info = driver3.find_element(By.CLASS_NAME,'stu-db').text\n",
    "                        #print(faculty_member_info.text)\n",
    "                        wait = WebDriverWait(driver3, 10)\n",
    "                        bio = driver3.find_element(By.CLASS_NAME,'pro-user-bio')\n",
    "                        bio = bio.find_elements(By.TAG_NAME,'li')\n",
    "                        if len(bio) >= 2:\n",
    "                            name = bio[0].text\n",
    "                            dd = bio[1].text.split('\\n')\n",
    "                            if len(dd)  >= 2:\n",
    "                                designation = dd[0]\n",
    "                                qualification = dd[1]\n",
    "                            print(name,designation,qualification)\n",
    "                        else:\n",
    "                            name = bio[0].text\n",
    "                            print(name)\n",
    "\n",
    "\n",
    "                        about_data = []\n",
    "                        wait = WebDriverWait(driver3, 10)\n",
    "                        about = driver3.find_element(By.TAG_NAME,'table')\n",
    "                        about = about.find_elements(By.TAG_NAME,'td')\n",
    "                        for i in about:\n",
    "                            about_data.append(i.text)\n",
    "                        index = 0\n",
    "                        phone_number = None\n",
    "                        email = None\n",
    "\n",
    "\n",
    "                        if 'Phone' in about_data:\n",
    "                            index = about_data.index('Phone') + 2 \n",
    "                        phone_number = about_data[index]\n",
    "\n",
    "                        if 'Email' in about_data:\n",
    "                            index = about_data.index('Email') + 2 \n",
    "                        email = about_data[index]\n",
    "\n",
    "                        print(phone_number,email)\n",
    "                        wait = WebDriverWait(driver3, 10)\n",
    "\n",
    "                    df2 = pd.DataFrame({'Faculty Name':[faculty_name],'Department Name':[department_name],\n",
    "                           'Teacher Name':[name],'Designation':[designation],'Qualification':[qualification],\n",
    "                           'Contact Number':[phone_number],'Email':[email],\"Other Info\":[faculty_member_info]})\n",
    "                    faculty_members_info_df =  pd.concat([faculty_members_info_df,df2],ignore_index=True)\n",
    "\n",
    "                driver3.quit()\n",
    "\n",
    "            elif 'curriculum' in str(departmental_link):\n",
    "                driver2.get(departmental_link)\n",
    "                wait = WebDriverWait(driver3, 10)\n",
    "                table = driver2.find_element(By.CLASS_NAME,'sb2-2')\n",
    "                table = table.text\n",
    "\n",
    "\n",
    "                subjects = re.findall(r\"[A-Za-z &]{5,50}\", table)\n",
    "                subjects = set(subjects)\n",
    "                subjects = list(subjects)\n",
    "                subjects = (',').join(subjects)\n",
    "                subjects = subjects.strip()\n",
    "                print(subjects)\n",
    "\n",
    "\n",
    "            elif 'outcome-based-education' in str(departmental_link):\n",
    "                driver2.get(departmental_link)\n",
    "                wait = WebDriverWait(driver2, 10)\n",
    "                OBE_data = driver2.find_element(By.CLASS_NAME,'sb2-2').text\n",
    "\n",
    "                #print(data.text)\n",
    "\n",
    "            elif 'industrial-linkage' in str(departmental_link):\n",
    "                driver2.get(departmental_link)\n",
    "                wait = WebDriverWait(driver2, 10)\n",
    "                industrial_linkage_data = driver2.find_element(By.CLASS_NAME,'sb2-2').text\n",
    "                print('industrial_linkage_data\\n\\n\\n',industrial_linkage_data)\n",
    "\n",
    "            elif 'laboratories' in str(departmental_link):\n",
    "                driver2.get(departmental_link)\n",
    "                wait = WebDriverWait(driver2, 10)\n",
    "                Labs_data = driver2.find_element(By.CLASS_NAME,'sb2-2').text\n",
    "                #print(data.text)\n",
    "                wait = WebDriverWait(driver2, 10)\n",
    "\n",
    "        df = pd.DataFrame({'Faculty Name':[faculty_name],\"Dean's Name\":[dean_name],\"Dean's Message\":\n",
    "                          dean_message,'Department Name':[department_name],'Department Description':\n",
    "                          department_description,'Major Subjects':[subjects],'Outcome Based Education':[OBE_data],\n",
    "                           'industrial-linkage':[industrial_linkage_data],\n",
    "                          'Laboratories':[Labs_data]})\n",
    "        faculty_general_info_df =  pd.concat([faculty_general_info_df,df],ignore_index=True)\n",
    "\n",
    "\n",
    "        driver2.quit()\n",
    "\n",
    "    driver.quit()\n"
   ]
  },
  {
   "cell_type": "code",
   "execution_count": 2,
   "id": "98bc76f9",
   "metadata": {},
   "outputs": [
    {
     "name": "stdout",
     "output_type": "stream",
     "text": [
      "['https://www.iub.edu.pk/faculty-of-law', 'https://www.iub.edu.pk/faculty-of-education', 'https://www.iub.edu.pk/faculty-of-chemical-biological-sciences', 'https://www.iub.edu.pk/faculty-of-physical-mathematical-sciences', 'https://www.iub.edu.pk/faculty-of-management-sciences', 'https://www.iub.edu.pk/faculty-of-computing', 'https://www.iub.edu.pk/faculty-of-social-sciences', 'https://www.iub.edu.pk/faculty-of-pharmacy-and-alternative-medicines', 'https://www.iub.edu.pk/faculty-of-islamic-learning', 'https://www.iub.edu.pk/faculty-of-arts', 'https://www.iub.edu.pk/faculty-of-engineering', 'https://www.iub.edu.pk/faculty-of-veterinary-and-animal-sciences', 'https://www.iub.edu.pk/faculty-of-agriculture-and-environmental-sciences', 'https://www.iub.edu.pk/faculty-of-medicine-and-allied-health-sciences', 'https://www.iub.edu.pk/faculty-of-online-and-distance-education']\n",
      "11.726650953292847\n"
     ]
    }
   ],
   "source": [
    "import time\n",
    "\n",
    "start_time = time.time()\n",
    "from selenium import webdriver\n",
    "from selenium.webdriver.common.by import By\n",
    "from selenium.webdriver.support.ui import WebDriverWait\n",
    "\n",
    "url = r'https://www.iub.edu.pk/faculty-of-law'\n",
    "\n",
    "#driver = webdriver.Chrome('chromedriver.exe')\n",
    "\n",
    "driver_path = \"C:\\Program Files\\Google\\Chrome\\Application\\chrome.exe\"\n",
    "driver = webdriver.Chrome()\n",
    "driver.get(url)\n",
    "urls = []\n",
    "data = driver.find_element(By.CLASS_NAME,'sb2-1')\n",
    "faculties_link = data.find_elements(By.TAG_NAME,'a')\n",
    "for x in faculties_link:\n",
    "    urls.append(x.get_property('href'))\n",
    "#print(data.text)\n",
    "print(urls)\n",
    "import time\n",
    "\n",
    "end_time = time.time()\n",
    "\n",
    "\n",
    "print(end_time - start_time)"
   ]
  },
  {
   "cell_type": "code",
   "execution_count": 11,
   "id": "12e12e3b",
   "metadata": {},
   "outputs": [
    {
     "data": {
      "text/plain": [
       "str"
      ]
     },
     "execution_count": 11,
     "metadata": {},
     "output_type": "execute_result"
    }
   ],
   "source": [
    "type(table)"
   ]
  },
  {
   "cell_type": "code",
   "execution_count": 15,
   "id": "02a52cee",
   "metadata": {},
   "outputs": [],
   "source": [
    "\n",
    "#table = table.replace('\\n','')\n"
   ]
  },
  {
   "cell_type": "code",
   "execution_count": 22,
   "id": "e139b688",
   "metadata": {},
   "outputs": [
    {
     "data": {
      "text/plain": [
       "'D:\\\\Jupyter Notebook Programs\\\\Chatbot'"
      ]
     },
     "execution_count": 22,
     "metadata": {},
     "output_type": "execute_result"
    }
   ],
   "source": [
    "import os\n",
    "os.getcwd()"
   ]
  },
  {
   "cell_type": "code",
   "execution_count": 19,
   "id": "e41dd385",
   "metadata": {},
   "outputs": [
    {
     "data": {
      "text/plain": [
       "9"
      ]
     },
     "execution_count": 19,
     "metadata": {},
     "output_type": "execute_result"
    }
   ],
   "source": [
    "len(faculty_general_info_df)"
   ]
  },
  {
   "cell_type": "code",
   "execution_count": 7,
   "id": "3214a2ad",
   "metadata": {},
   "outputs": [
    {
     "data": {
      "text/html": [
       "<div>\n",
       "<style scoped>\n",
       "    .dataframe tbody tr th:only-of-type {\n",
       "        vertical-align: middle;\n",
       "    }\n",
       "\n",
       "    .dataframe tbody tr th {\n",
       "        vertical-align: top;\n",
       "    }\n",
       "\n",
       "    .dataframe thead th {\n",
       "        text-align: right;\n",
       "    }\n",
       "</style>\n",
       "<table border=\"1\" class=\"dataframe\">\n",
       "  <thead>\n",
       "    <tr style=\"text-align: right;\">\n",
       "      <th></th>\n",
       "    </tr>\n",
       "  </thead>\n",
       "  <tbody>\n",
       "  </tbody>\n",
       "</table>\n",
       "</div>"
      ],
      "text/plain": [
       "Empty DataFrame\n",
       "Columns: []\n",
       "Index: []"
      ]
     },
     "execution_count": 7,
     "metadata": {},
     "output_type": "execute_result"
    }
   ],
   "source": [
    "faculty_members_info_df.head(20)"
   ]
  },
  {
   "cell_type": "code",
   "execution_count": 22,
   "id": "ae9650dc",
   "metadata": {},
   "outputs": [
    {
     "data": {
      "text/plain": [
       "63"
      ]
     },
     "execution_count": 22,
     "metadata": {},
     "output_type": "execute_result"
    }
   ],
   "source": [
    "len(faculty_members_info_df)"
   ]
  },
  {
   "cell_type": "code",
   "execution_count": 3,
   "id": "b8354e4a",
   "metadata": {},
   "outputs": [
    {
     "name": "stdout",
     "output_type": "stream",
     "text": [
      "428 ms ± 17.3 ms per loop (mean ± std. dev. of 7 runs, 1 loop each)\n"
     ]
    }
   ],
   "source": [
    "%%timeit\n",
    "total = 0\n",
    "for i in range(1000):\n",
    "    for j in range(1000):\n",
    "        total += i * (-1) ** j"
   ]
  },
  {
   "cell_type": "code",
   "execution_count": 23,
   "id": "0f46f5a2",
   "metadata": {},
   "outputs": [],
   "source": [
    "faculty_general_info_df.to_csv('faculty_general_info.csv')\n",
    "faculty_members_info_df.to_csv('faculty_members_info.csv')"
   ]
  },
  {
   "cell_type": "code",
   "execution_count": null,
   "id": "0f2a9747",
   "metadata": {},
   "outputs": [],
   "source": [
    "https://www.iub.edu.pk/department-of-bio-chemistry"
   ]
  }
 ],
 "metadata": {
  "kernelspec": {
   "display_name": "Python 3 (ipykernel)",
   "language": "python",
   "name": "python3"
  },
  "language_info": {
   "codemirror_mode": {
    "name": "ipython",
    "version": 3
   },
   "file_extension": ".py",
   "mimetype": "text/x-python",
   "name": "python",
   "nbconvert_exporter": "python",
   "pygments_lexer": "ipython3",
   "version": "3.9.7"
  }
 },
 "nbformat": 4,
 "nbformat_minor": 5
}
